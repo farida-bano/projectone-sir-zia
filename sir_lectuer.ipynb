{
  "nbformat": 4,
  "nbformat_minor": 0,
  "metadata": {
    "colab": {
      "provenance": [],
      "authorship_tag": "ABX9TyOg/K6Gy0ENMrreZZ14wzZd",
      "include_colab_link": true
    },
    "kernelspec": {
      "name": "python3",
      "display_name": "Python 3"
    },
    "language_info": {
      "name": "python"
    }
  },
  "cells": [
    {
      "cell_type": "markdown",
      "metadata": {
        "id": "view-in-github",
        "colab_type": "text"
      },
      "source": [
        "<a href=\"https://colab.research.google.com/github/farida-bano/projectone-sir-zia/blob/main/sir_lectuer.ipynb\" target=\"_parent\"><img src=\"https://colab.research.google.com/assets/colab-badge.svg\" alt=\"Open In Colab\"/></a>"
      ]
    },
    {
      "cell_type": "code",
      "execution_count": null,
      "metadata": {
        "colab": {
          "base_uri": "https://localhost:8080/"
        },
        "id": "B5VDn7sruW3x",
        "outputId": "016b2284-4b0f-4fc4-a32c-5c1ee1089078"
      },
      "outputs": [
        {
          "output_type": "stream",
          "name": "stdout",
          "text": [
            "=== GOOD DATACLASS EXAMPLES ===\n",
            "Person 1: Person(name='Alice', age=30, email='alice@example.com', tags=['developer'])\n",
            "Person 2: Person(name='Bob', age=25, email=None, tags=[])\n",
            "Person 3: Person(name='Charlie', age=17, email=None, tags=['student', 'part-time'])\n",
            "Is Alice an adult? True\n",
            "Is Charlie an adult? False\n",
            "\n",
            "=== BAD REGULAR CLASS EXAMPLES ===\n",
            "PersonBad 1: PersonBad(name=Alice, age=30, email=alice@example.com, tags=[])\n",
            "PersonBad 2: PersonBad(name=Bob, age=25, email=None, tags=[])\n"
          ]
        }
      ],
      "source": [
        "\"\"\"\n",
        "01_basic_dataclasses.py - Basic usage of dataclasses\n",
        "\n",
        "This file demonstrates the proper use of dataclasses for simple data structures.\n",
        "\"\"\"\n",
        "\n",
        "from dataclasses import dataclass, field\n",
        "from typing import List, Optional\n",
        "\n",
        "\n",
        "# GOOD EXAMPLE: Simple dataclass with type hints\n",
        "@dataclass\n",
        "class Person:\n",
        "    name: str\n",
        "    age: int\n",
        "    email: Optional[str] = None\n",
        "    # Using field() with default_factory for mutable default values\n",
        "    tags: List[str] = field(default_factory=list)\n",
        "\n",
        "    def is_adult(self) -> bool:\n",
        "        \"\"\"Example method that uses the dataclass attributes.\"\"\"\n",
        "        return self.age >= 18\n",
        "\n",
        "\n",
        "# Usage example\n",
        "def demo_good_usage():\n",
        "    # Creating instances\n",
        "    person1 = Person(name=\"Alice\", age=30, email=\"alice@example.com\")\n",
        "    person2 = Person(name=\"Bob\", age=25)\n",
        "    person3 = Person(name=\"Charlie\", age=17, tags=[\"student\", \"part-time\"])\n",
        "\n",
        "    # Adding to a mutable field\n",
        "    person1.tags.append(\"developer\")\n",
        "\n",
        "    # Using the built-in string representation\n",
        "    print(f\"Person 1: {person1}\")\n",
        "    print(f\"Person 2: {person2}\")\n",
        "    print(f\"Person 3: {person3}\")\n",
        "\n",
        "    # Using the instance method\n",
        "    print(f\"Is {person1.name} an adult? {person1.is_adult()}\")\n",
        "    print(f\"Is {person3.name} an adult? {person3.is_adult()}\")\n",
        "\n",
        "\n",
        "# BAD EXAMPLE: Class without dataclass\n",
        "class PersonBad:\n",
        "    def __init__(self, name, age, email=None, tags=None):\n",
        "        self.name = name\n",
        "        self.age = age\n",
        "        self.email = email\n",
        "        # Common mistake: mutable default\n",
        "        self.tags = tags if tags is not None else []\n",
        "\n",
        "    # Have to manually define string representation\n",
        "    def __repr__(self):\n",
        "        return f\"PersonBad(name={self.name}, age={self.age}, email={self.email}, tags={self.tags})\"\n",
        "\n",
        "    # Have to manually define equality\n",
        "    def __eq__(self, other):\n",
        "        if not isinstance(other, PersonBad):\n",
        "            return False\n",
        "        return (self.name == other.name and\n",
        "                self.age == other.age and\n",
        "                self.email == other.email and\n",
        "                self.tags == other.tags)\n",
        "\n",
        "\n",
        "def demo_bad_usage():\n",
        "    # More verbose and error-prone without dataclasses\n",
        "    person1 = PersonBad(\"Alice\", 30, \"alice@example.com\")\n",
        "    person2 = PersonBad(\"Bob\", 25)\n",
        "\n",
        "    print(f\"PersonBad 1: {person1}\")\n",
        "    print(f\"PersonBad 2: {person2}\")\n",
        "\n",
        "\n",
        "if __name__ == \"__main__\":\n",
        "    print(\"=== GOOD DATACLASS EXAMPLES ===\")\n",
        "    demo_good_usage()\n",
        "\n",
        "    print(\"\\n=== BAD REGULAR CLASS EXAMPLES ===\")\n",
        "    demo_bad_usage()"
      ]
    }
  ]
}